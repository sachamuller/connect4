{
 "cells": [
  {
   "cell_type": "code",
   "execution_count": 1,
   "id": "d5971313",
   "metadata": {},
   "outputs": [],
   "source": [
    "from pettingzoo.classic import connect_four_v3"
   ]
  },
  {
   "cell_type": "code",
   "execution_count": 2,
   "id": "52fb4be3",
   "metadata": {},
   "outputs": [],
   "source": [
    "import numpy as np\n",
    "import matplotlib.pyplot as plt\n",
    "from tqdm import tqdm\n",
    "\n",
    "import os\n",
    "os.environ[\"SDL_VIDEODRIVER\"] = \"dummy\"\n",
    "from IPython.display import clear_output"
   ]
  },
  {
   "cell_type": "code",
   "execution_count": 3,
   "id": "75b94de9",
   "metadata": {},
   "outputs": [],
   "source": [
    "env = connect_four_v3.env(render_mode=\"rgb_array\")"
   ]
  },
  {
   "attachments": {},
   "cell_type": "markdown",
   "id": "92f5bcdf",
   "metadata": {},
   "source": [
    "# Agents\n",
    "\n",
    "Here are some implementations of trivial agents that you should be able to beat ultimately. "
   ]
  },
  {
   "cell_type": "code",
   "execution_count": null,
   "id": "2ba06abd",
   "metadata": {},
   "outputs": [],
   "source": [
    "# The agents are loacted in the dqn_utils file "
   ]
  },
  {
   "attachments": {},
   "cell_type": "markdown",
   "id": "1f4fdf7e",
   "metadata": {},
   "source": [
    "# Running a game\n",
    "\n",
    "\n",
    "The following function runs a full game between the two agents. "
   ]
  },
  {
   "cell_type": "code",
   "execution_count": 47,
   "id": "7ff5ca49",
   "metadata": {},
   "outputs": [],
   "source": [
    "def play_game(env, agent0, agent1, display=False):\n",
    "    done = False\n",
    "    env.reset()\n",
    "    obs, _, _, _, _ = env.last()\n",
    "    while not done:\n",
    "        for i, agent in enumerate([agent0, agent1]):\n",
    "            action = agent.get_action(obs, epsilon=0)\n",
    "            env.step(action)\n",
    "            if display:\n",
    "                clear_output(wait=True)\n",
    "                plt.imshow(env.render())\n",
    "                plt.show()\n",
    "            obs, reward, terminated, _, _ = env.last()\n",
    "            done = terminated\n",
    "            if np.sum(obs[\"action_mask\"]) == 0:\n",
    "                if display: \n",
    "                    print('Draw')\n",
    "                return 0.5\n",
    "            if done:\n",
    "                if display:\n",
    "                    print(f\"Player {i}: {agent.name} won\")\n",
    "                    print(obs['observation'][:, :, 0]- obs['observation'][:, :, 1])\n",
    "                return i"
   ]
  },
  {
   "cell_type": "code",
   "execution_count": 48,
   "id": "7601a657",
   "metadata": {},
   "outputs": [],
   "source": [
    "# agent0 = RandomPlayer()\n",
    "# agent1 = PlayLeftmostLegal()\n",
    "\n",
    "# play_game(env, agent0, agent1, display=True)"
   ]
  },
  {
   "attachments": {},
   "cell_type": "markdown",
   "id": "173cc5af",
   "metadata": {},
   "source": [
    "# Emulating a Gym environment\n",
    "\n",
    "If we fix the opposite policy, the game from the point of view of the agent is equivalent to a Gym environment. The following class implements this simulation. Then any algorithm that would work in a gym environment with the same observations will work here. \n",
    "\n",
    "Note that we implemented the possibility to be the first or the second player. "
   ]
  },
  {
   "cell_type": "code",
   "execution_count": 49,
   "id": "a9a2406f",
   "metadata": {},
   "outputs": [],
   "source": [
    "class EnvAgainstPolicy: \n",
    "    def __init__(self, env, policy, first_player=True):\n",
    "        self.policy = policy\n",
    "        self.env = env\n",
    "        self.first_player = first_player\n",
    "        self.reset()\n",
    "\n",
    "    def step(self, action):\n",
    "        self.env.step(action)\n",
    "        obs, reward, terminated, _, _ = self.env.last()\n",
    "        if terminated: \n",
    "            self.last_step = obs, reward, True, False, {}\n",
    "        else: \n",
    "            action = self.policy.get_action(obs)\n",
    "            self.env.step(action)\n",
    "            obs, reward, terminated, _, _ = self.env.last()\n",
    "            self.last_step = obs, -reward, terminated, False, {}\n",
    "        return self.last_step\n",
    "\n",
    "    def reset(self):\n",
    "        self.env.reset()\n",
    "        if not(self.first_player): \n",
    "            obs, _, _, _, _ = self.env.last()\n",
    "            action = self.policy.get_action(obs)\n",
    "            self.env.step(action)\n",
    "\n",
    "        self.last_step = self.env.last()\n",
    "        return self.last_step\n",
    "\n",
    "    def last(self):\n",
    "        return self.last_step"
   ]
  },
  {
   "attachments": {},
   "cell_type": "markdown",
   "id": "3cb3fab1",
   "metadata": {},
   "source": [
    "# Evaluating an agent against a fixed policy: \n",
    "\n",
    "Using the environment above, we can evaluate the agent against this fixed policy. "
   ]
  },
  {
   "cell_type": "code",
   "execution_count": 50,
   "id": "607783c5",
   "metadata": {},
   "outputs": [],
   "source": [
    "def eval_against_policy(env, agent, policy, n_episodes=10, first_player=True):\n",
    "    eval_env = EnvAgainstPolicy(env, policy, first_player=first_player)\n",
    "    results = []\n",
    "    for _ in range(n_episodes):\n",
    "        done = False\n",
    "        eval_env.reset()\n",
    "        obs, _, _, _, _ = eval_env.last()\n",
    "        while not done:\n",
    "            action = agent.get_action(obs, epsilon=0)\n",
    "            eval_env.step(action)\n",
    "            obs, reward, done, _, _ = eval_env.last()\n",
    "        results.append(reward)\n",
    "    return results"
   ]
  },
  {
   "attachments": {},
   "cell_type": "markdown",
   "id": "9678abd1",
   "metadata": {},
   "source": [
    "# Training an agent "
   ]
  },
  {
   "cell_type": "code",
   "execution_count": 137,
   "id": "58484145",
   "metadata": {},
   "outputs": [],
   "source": [
    "def train_player_0(env, player_0, player_1, n_episodes, first_player = True, eval_every=50, reward_threshold=0.9, early_stopping_insistance=3):\n",
    "    \n",
    "    if first_player : \n",
    "        agents = [player_0, player_1]\n",
    "    else : \n",
    "        agents = [player_1, player_0]\n",
    "    losses = []\n",
    "    all_rewards = []\n",
    "    episodes_length = []\n",
    "    \n",
    "    for ep in tqdm(range(n_episodes), desc=\"Train\"):\n",
    "        done = False\n",
    "        state = env.reset()\n",
    "        length_episode = 0\n",
    "        while not done:\n",
    "            length_episode += 1\n",
    "            for agent in agents:\n",
    "                next_state, reward, terminated, truncated, info = env.last()\n",
    "                done = terminated or truncated\n",
    "                if done:\n",
    "                    break \n",
    "                else:\n",
    "                    action = agent.get_action(next_state)\n",
    "                    env.step(action)\n",
    "                    if agent == player_0 :\n",
    "                        loss_val = agent.update(state, action, reward, terminated, next_state)\n",
    "                        if loss_val is not None : \n",
    "                            losses.append(loss_val)\n",
    "                        state = next_state   \n",
    "        \n",
    "        episodes_length.append(length_episode)\n",
    "        \n",
    "        if ep%eval_every == 0:\n",
    "            print(\"[Train] Evaluating the DQN Agent.\")\n",
    "            rewards = eval_against_policy(env, player_0, player_1, n_episodes=30, first_player=first_player)\n",
    "            all_rewards.append(np.mean(rewards))\n",
    "            print(f\"Mean reward is: {np.mean(rewards)}\")\n",
    "            # early stopping\n",
    "            if np.mean(rewards) >= reward_threshold:\n",
    "                # the threshold needs to be reached several time for the training to stop\n",
    "                early_stopping_insistance -= 1\n",
    "                if early_stopping_insistance == 0  : \n",
    "                    break\n",
    "            \n",
    "                \n",
    "    return losses, all_rewards, episodes_length"
   ]
  },
  {
   "attachments": {},
   "cell_type": "markdown",
   "id": "79580594",
   "metadata": {},
   "source": [
    "# Some training experiments"
   ]
  },
  {
   "attachments": {},
   "cell_type": "markdown",
   "id": "627a287f",
   "metadata": {},
   "source": [
    "### DQN Agent vs Random Agent, DQN agent playing first"
   ]
  },
  {
   "cell_type": "code",
   "execution_count": 138,
   "id": "b9bc51a0",
   "metadata": {},
   "outputs": [
    {
     "data": {
      "text/plain": [
       "<module 'dqn_utils' from '/Users/sachamuller/Documents/Scolaire/5-CentraleSupelec/3A/7-SM11/RL/connect4/dqn_utils.py'>"
      ]
     },
     "execution_count": 138,
     "metadata": {},
     "output_type": "execute_result"
    }
   ],
   "source": [
    "import dqn_utils\n",
    "import importlib\n",
    "importlib.reload(dqn_utils)  # to reload easily when I modify the agent's code :)"
   ]
  },
  {
   "cell_type": "code",
   "execution_count": 139,
   "id": "a49432f6",
   "metadata": {},
   "outputs": [],
   "source": [
    "gamma = 0.99\n",
    "batch_size = 128\n",
    "buffer_capacity = 10_000\n",
    "update_target_every = 32\n",
    "\n",
    "epsilon_start = 0.9\n",
    "decrease_epsilon_factor = 1000\n",
    "epsilon_min = 0.05\n",
    "\n",
    "learning_rate = 1e-1\n",
    "\n",
    "DQN_agent = dqn_utils.DQN_Skeleton(\n",
    "        action_space_size=7, # number of columns\n",
    "        observation_space_size = 6*7,  # nb_rows, nb_columns\n",
    "        gamma=gamma,\n",
    "        batch_size=batch_size,\n",
    "        buffer_capacity=buffer_capacity,\n",
    "        update_target_every=update_target_every,\n",
    "        epsilon_start=epsilon_start,\n",
    "        decrease_epsilon_factor=decrease_epsilon_factor,\n",
    "        epsilon_min=epsilon_min,\n",
    "        learning_rate=learning_rate,\n",
    "        env=env,\n",
    "    )\n",
    "\n",
    "random_agent = dqn_utils.RandomAgent()"
   ]
  },
  {
   "cell_type": "code",
   "execution_count": 140,
   "id": "33aa749c",
   "metadata": {},
   "outputs": [],
   "source": [
    "eval_before_training = eval_against_policy(env, DQN_agent, random_agent, n_episodes=1000, first_player=True)"
   ]
  },
  {
   "cell_type": "code",
   "execution_count": 141,
   "id": "f14108b1",
   "metadata": {},
   "outputs": [
    {
     "name": "stderr",
     "output_type": "stream",
     "text": [
      "Train:   0%|          | 0/1000 [00:00<?, ?it/s]/Users/sachamuller/Documents/Scolaire/5-CentraleSupelec/3A/7-SM11/RL/connect4/dqn_utils.py:113: UserWarning: To copy construct from a tensor, it is recommended to use sourceTensor.clone().detach() or sourceTensor.clone().detach().requires_grad_(True), rather than torch.tensor(sourceTensor).\n",
      "  torch.tensor([reward]),\n",
      "/Users/sachamuller/Documents/Scolaire/5-CentraleSupelec/3A/7-SM11/RL/connect4/dqn_utils.py:117: UserWarning: To copy construct from a tensor, it is recommended to use sourceTensor.clone().detach() or sourceTensor.clone().detach().requires_grad_(True), rather than torch.tensor(sourceTensor).\n",
      "  \n"
     ]
    },
    {
     "name": "stdout",
     "output_type": "stream",
     "text": [
      "[Train] Evaluating the DQN Agent.\n"
     ]
    },
    {
     "name": "stderr",
     "output_type": "stream",
     "text": [
      "Train:   1%|          | 9/1000 [00:00<00:40, 24.58it/s]"
     ]
    },
    {
     "name": "stdout",
     "output_type": "stream",
     "text": [
      "Mean reward is: 0.3333333333333333\n"
     ]
    },
    {
     "name": "stderr",
     "output_type": "stream",
     "text": [
      "Train:   5%|▌         | 50/1000 [00:02<00:39, 23.96it/s]"
     ]
    },
    {
     "name": "stdout",
     "output_type": "stream",
     "text": [
      "[Train] Evaluating the DQN Agent.\n",
      "Mean reward is: 0.7333333333333333\n"
     ]
    },
    {
     "name": "stderr",
     "output_type": "stream",
     "text": [
      "Train:  10%|▉         | 99/1000 [00:04<00:45, 19.94it/s]"
     ]
    },
    {
     "name": "stdout",
     "output_type": "stream",
     "text": [
      "[Train] Evaluating the DQN Agent.\n"
     ]
    },
    {
     "name": "stderr",
     "output_type": "stream",
     "text": [
      "Train:  10%|█         | 105/1000 [00:05<01:01, 14.66it/s]"
     ]
    },
    {
     "name": "stdout",
     "output_type": "stream",
     "text": [
      "Mean reward is: 0.4\n"
     ]
    },
    {
     "name": "stderr",
     "output_type": "stream",
     "text": [
      "Train:  15%|█▌        | 151/1000 [00:07<01:04, 13.22it/s]"
     ]
    },
    {
     "name": "stdout",
     "output_type": "stream",
     "text": [
      "[Train] Evaluating the DQN Agent.\n",
      "Mean reward is: 0.6666666666666666\n"
     ]
    },
    {
     "name": "stderr",
     "output_type": "stream",
     "text": [
      "Train:  20%|██        | 200/1000 [00:10<00:36, 21.94it/s]"
     ]
    },
    {
     "name": "stdout",
     "output_type": "stream",
     "text": [
      "[Train] Evaluating the DQN Agent.\n",
      "Mean reward is: 0.6\n"
     ]
    },
    {
     "name": "stderr",
     "output_type": "stream",
     "text": [
      "Train:  25%|██▌       | 251/1000 [00:13<00:49, 15.23it/s]"
     ]
    },
    {
     "name": "stdout",
     "output_type": "stream",
     "text": [
      "[Train] Evaluating the DQN Agent.\n",
      "Mean reward is: 0.6666666666666666\n"
     ]
    },
    {
     "name": "stderr",
     "output_type": "stream",
     "text": [
      "Train:  30%|███       | 300/1000 [00:15<00:27, 25.39it/s]"
     ]
    },
    {
     "name": "stdout",
     "output_type": "stream",
     "text": [
      "[Train] Evaluating the DQN Agent.\n",
      "Mean reward is: 0.4\n"
     ]
    },
    {
     "name": "stderr",
     "output_type": "stream",
     "text": [
      "Train:  35%|███▍      | 349/1000 [00:17<00:34, 19.11it/s]"
     ]
    },
    {
     "name": "stdout",
     "output_type": "stream",
     "text": [
      "[Train] Evaluating the DQN Agent.\n",
      "Mean reward is: 0.6666666666666666\n"
     ]
    },
    {
     "name": "stderr",
     "output_type": "stream",
     "text": [
      "Train:  40%|████      | 401/1000 [00:20<00:30, 19.66it/s]"
     ]
    },
    {
     "name": "stdout",
     "output_type": "stream",
     "text": [
      "[Train] Evaluating the DQN Agent.\n",
      "Mean reward is: 0.9333333333333333\n"
     ]
    },
    {
     "name": "stderr",
     "output_type": "stream",
     "text": [
      "Train:  45%|████▍     | 449/1000 [00:22<00:24, 22.28it/s]"
     ]
    },
    {
     "name": "stdout",
     "output_type": "stream",
     "text": [
      "[Train] Evaluating the DQN Agent.\n",
      "Mean reward is: 0.8\n"
     ]
    },
    {
     "name": "stderr",
     "output_type": "stream",
     "text": [
      "Train:  50%|████▉     | 499/1000 [00:24<00:19, 25.56it/s]"
     ]
    },
    {
     "name": "stdout",
     "output_type": "stream",
     "text": [
      "[Train] Evaluating the DQN Agent.\n",
      "Mean reward is: 0.8666666666666667\n"
     ]
    },
    {
     "name": "stderr",
     "output_type": "stream",
     "text": [
      "Train:  55%|█████▌    | 550/1000 [00:27<00:21, 20.48it/s]"
     ]
    },
    {
     "name": "stdout",
     "output_type": "stream",
     "text": [
      "[Train] Evaluating the DQN Agent.\n"
     ]
    },
    {
     "name": "stderr",
     "output_type": "stream",
     "text": [
      "Train:  55%|█████▌    | 553/1000 [00:27<00:30, 14.74it/s]"
     ]
    },
    {
     "name": "stdout",
     "output_type": "stream",
     "text": [
      "Mean reward is: 0.8666666666666667\n"
     ]
    },
    {
     "name": "stderr",
     "output_type": "stream",
     "text": [
      "Train:  60%|█████▉    | 599/1000 [00:29<00:19, 20.44it/s]"
     ]
    },
    {
     "name": "stdout",
     "output_type": "stream",
     "text": [
      "[Train] Evaluating the DQN Agent.\n",
      "Mean reward is: 0.8\n"
     ]
    },
    {
     "name": "stderr",
     "output_type": "stream",
     "text": [
      "Train:  65%|██████▌   | 650/1000 [00:32<00:19, 18.42it/s]"
     ]
    },
    {
     "name": "stdout",
     "output_type": "stream",
     "text": [
      "[Train] Evaluating the DQN Agent.\n",
      "Mean reward is: 0.7333333333333333\n"
     ]
    },
    {
     "name": "stderr",
     "output_type": "stream",
     "text": [
      "Train:  70%|███████   | 700/1000 [00:35<00:13, 21.56it/s]"
     ]
    },
    {
     "name": "stdout",
     "output_type": "stream",
     "text": [
      "[Train] Evaluating the DQN Agent.\n",
      "Mean reward is: 0.7333333333333333\n"
     ]
    },
    {
     "name": "stderr",
     "output_type": "stream",
     "text": [
      "Train:  75%|███████▌  | 751/1000 [00:37<00:12, 19.40it/s]"
     ]
    },
    {
     "name": "stdout",
     "output_type": "stream",
     "text": [
      "[Train] Evaluating the DQN Agent.\n",
      "Mean reward is: 0.9333333333333333\n"
     ]
    },
    {
     "name": "stderr",
     "output_type": "stream",
     "text": [
      "Train:  80%|████████  | 800/1000 [00:39<00:09, 20.87it/s]"
     ]
    },
    {
     "name": "stdout",
     "output_type": "stream",
     "text": [
      "[Train] Evaluating the DQN Agent.\n",
      "Mean reward is: 0.8666666666666667\n"
     ]
    },
    {
     "name": "stderr",
     "output_type": "stream",
     "text": [
      "Train:  85%|████████▌ | 850/1000 [00:41<00:04, 30.34it/s]"
     ]
    },
    {
     "name": "stdout",
     "output_type": "stream",
     "text": [
      "[Train] Evaluating the DQN Agent.\n"
     ]
    },
    {
     "name": "stderr",
     "output_type": "stream",
     "text": [
      "Train:  85%|████████▌ | 854/1000 [00:42<00:09, 15.97it/s]"
     ]
    },
    {
     "name": "stdout",
     "output_type": "stream",
     "text": [
      "Mean reward is: 0.8\n"
     ]
    },
    {
     "name": "stderr",
     "output_type": "stream",
     "text": [
      "Train:  90%|████████▉ | 898/1000 [00:44<00:04, 24.08it/s]"
     ]
    },
    {
     "name": "stdout",
     "output_type": "stream",
     "text": [
      "[Train] Evaluating the DQN Agent.\n"
     ]
    },
    {
     "name": "stderr",
     "output_type": "stream",
     "text": [
      "Train:  90%|█████████ | 904/1000 [00:44<00:05, 18.53it/s]"
     ]
    },
    {
     "name": "stdout",
     "output_type": "stream",
     "text": [
      "Mean reward is: 0.6\n"
     ]
    },
    {
     "name": "stderr",
     "output_type": "stream",
     "text": [
      "Train:  92%|█████████▏| 921/1000 [00:45<00:03, 22.97it/s]"
     ]
    }
   ],
   "source": [
    "losses, all_rewards, episodes_length = train_player_0(env, DQN_agent, random_agent, 1000)"
   ]
  },
  {
   "cell_type": "code",
   "execution_count": null,
   "id": "5145bb6b",
   "metadata": {},
   "outputs": [
    {
     "data": {
      "image/png": "[encoded data removed]",
      "text/plain": [
       "<Figure size 640x480 with 1 Axes>"
      ]
     },
     "metadata": {},
     "output_type": "display_data"
    }
   ],
   "source": [
    "eval_after_training = eval_against_policy(env, DQN_agent, dqn_utils.RandomAgent(), n_episodes=1000, first_player=True)"
   ]
  },
  {
   "cell_type": "code",
   "execution_count": null,
   "id": "71a2896b",
   "metadata": {},
   "outputs": [],
   "source": [
    "def training_dashboard(eval_before_training, eval_after_training, losses, all_rewards, episodes_length):\n",
    "    fig = plt.figure(constrained_layout=True)\n",
    "    gs0 = fig.add_gridspec(nrows=2, ncols=1)\n",
    "\n",
    "    gs00 = gs0[0].subgridspec(1, 2)\n",
    "    gs01 = gs0[1].subgridspec(1, 3)\n",
    "\n",
    "    ax1 = fig.add_subplot(gs00[0:1])\n",
    "    ax1.hist(eval_before_training)\n",
    "    ax2 = fig.add_subplot(gs00[1:2])\n",
    "    ax2.hist(eval_after_training)\n",
    "    ax3 = fig.add_subplot(gs01[0:1])\n",
    "    ax3.plot(losses)\n",
    "    ax4 = fig.add_subplot(gs01[1:2])\n",
    "    ax4.plot(all_rewards)\n",
    "    ax5 = fig.add_subplot(gs01[2:3])\n",
    "    ax5.plot(episodes_length)\n",
    "\n",
    "    plt.show()\n",
    "\n",
    "training_dashboard(eval_before_training, eval_after_training, losses, all_rewards, episodes_length)"
   ]
  },
  {
   "cell_type": "code",
   "execution_count": null,
   "id": "04fbbddf",
   "metadata": {},
   "outputs": [
    {
     "data": {
      "image/png": "[encoded data removed]",
      "text/plain": [
       "<Figure size 640x480 with 1 Axes>"
      ]
     },
     "metadata": {},
     "output_type": "display_data"
    },
    {
     "name": "stdout",
     "output_type": "stream",
     "text": [
      "Player 1: Random Agent won\n",
      "[[ 0  0 -1  0  0  0  0]\n",
      " [ 0  0 -1  0  0  0  0]\n",
      " [ 0  0 -1  0  0  1  0]\n",
      " [ 0  0  1  0  0  1  0]\n",
      " [ 0  0 -1  0  0  1  0]\n",
      " [-1  0 -1  0  0  1  1]]\n"
     ]
    },
    {
     "data": {
      "text/plain": [
       "1"
      ]
     },
     "execution_count": 115,
     "metadata": {},
     "output_type": "execute_result"
    }
   ],
   "source": [
    "play_game(env, DQN_agent, dqn_utils.RandomAgent(), display=True)"
   ]
  }
 ],
 "metadata": {
  "kernelspec": {
   "display_name": "Python 3 (ipykernel)",
   "language": "python",
   "name": "python3"
  },
  "language_info": {
   "codemirror_mode": {
    "name": "ipython",
    "version": 3
   },
   "file_extension": ".py",
   "mimetype": "text/x-python",
   "name": "python",
   "nbconvert_exporter": "python",
   "pygments_lexer": "ipython3",
   "version": "3.10.4"
  }
 },
 "nbformat": 4,
 "nbformat_minor": 5
}
